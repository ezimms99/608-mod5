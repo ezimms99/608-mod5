{
 "cells": [
  {
   "cell_type": "code",
   "execution_count": 3,
   "id": "b2fd87d6-5fc5-4dbf-896a-9fe1b93193c1",
   "metadata": {},
   "outputs": [],
   "source": [
    "import pandas as pd"
   ]
  },
  {
   "cell_type": "code",
   "execution_count": 4,
   "id": "ccf76bd6-4d85-4ac6-8b2f-5681949e49de",
   "metadata": {},
   "outputs": [],
   "source": [
    "grades_dict = {'Wally': [87, 96, 70], 'Eva': [100, 87, 90], 'Sam': [94, 77, 90], 'Katie': [100, 81, 82], 'Bob': [83, 65, 85]}"
   ]
  },
  {
   "cell_type": "code",
   "execution_count": 5,
   "id": "deb6d651-454c-46bc-9346-67f234f4225f",
   "metadata": {},
   "outputs": [],
   "source": [
    "grades = pd.DataFrame(grades_dict)"
   ]
  },
  {
   "cell_type": "code",
   "execution_count": 6,
   "id": "87271ff7-ff09-4cfe-ad51-26fe36f75873",
   "metadata": {},
   "outputs": [
    {
     "data": {
      "text/html": [
       "<div>\n",
       "<style scoped>\n",
       "    .dataframe tbody tr th:only-of-type {\n",
       "        vertical-align: middle;\n",
       "    }\n",
       "\n",
       "    .dataframe tbody tr th {\n",
       "        vertical-align: top;\n",
       "    }\n",
       "\n",
       "    .dataframe thead th {\n",
       "        text-align: right;\n",
       "    }\n",
       "</style>\n",
       "<table border=\"1\" class=\"dataframe\">\n",
       "  <thead>\n",
       "    <tr style=\"text-align: right;\">\n",
       "      <th></th>\n",
       "      <th>Wally</th>\n",
       "      <th>Eva</th>\n",
       "      <th>Sam</th>\n",
       "      <th>Katie</th>\n",
       "      <th>Bob</th>\n",
       "    </tr>\n",
       "  </thead>\n",
       "  <tbody>\n",
       "    <tr>\n",
       "      <th>0</th>\n",
       "      <td>87</td>\n",
       "      <td>100</td>\n",
       "      <td>94</td>\n",
       "      <td>100</td>\n",
       "      <td>83</td>\n",
       "    </tr>\n",
       "    <tr>\n",
       "      <th>1</th>\n",
       "      <td>96</td>\n",
       "      <td>87</td>\n",
       "      <td>77</td>\n",
       "      <td>81</td>\n",
       "      <td>65</td>\n",
       "    </tr>\n",
       "    <tr>\n",
       "      <th>2</th>\n",
       "      <td>70</td>\n",
       "      <td>90</td>\n",
       "      <td>90</td>\n",
       "      <td>82</td>\n",
       "      <td>85</td>\n",
       "    </tr>\n",
       "  </tbody>\n",
       "</table>\n",
       "</div>"
      ],
      "text/plain": [
       "   Wally  Eva  Sam  Katie  Bob\n",
       "0     87  100   94    100   83\n",
       "1     96   87   77     81   65\n",
       "2     70   90   90     82   85"
      ]
     },
     "execution_count": 6,
     "metadata": {},
     "output_type": "execute_result"
    }
   ],
   "source": [
    "grades"
   ]
  },
  {
   "cell_type": "code",
   "execution_count": 7,
   "id": "7b4c036c-8e4a-459a-b0de-d966985e40f8",
   "metadata": {},
   "outputs": [
    {
     "data": {
      "text/html": [
       "<div>\n",
       "<style scoped>\n",
       "    .dataframe tbody tr th:only-of-type {\n",
       "        vertical-align: middle;\n",
       "    }\n",
       "\n",
       "    .dataframe tbody tr th {\n",
       "        vertical-align: top;\n",
       "    }\n",
       "\n",
       "    .dataframe thead th {\n",
       "        text-align: right;\n",
       "    }\n",
       "</style>\n",
       "<table border=\"1\" class=\"dataframe\">\n",
       "  <thead>\n",
       "    <tr style=\"text-align: right;\">\n",
       "      <th></th>\n",
       "      <th>Wally</th>\n",
       "      <th>Eva</th>\n",
       "      <th>Sam</th>\n",
       "      <th>Katie</th>\n",
       "      <th>Bob</th>\n",
       "    </tr>\n",
       "  </thead>\n",
       "  <tbody>\n",
       "    <tr>\n",
       "      <th>Test1</th>\n",
       "      <td>87</td>\n",
       "      <td>100</td>\n",
       "      <td>94</td>\n",
       "      <td>100</td>\n",
       "      <td>83</td>\n",
       "    </tr>\n",
       "    <tr>\n",
       "      <th>Test2</th>\n",
       "      <td>96</td>\n",
       "      <td>87</td>\n",
       "      <td>77</td>\n",
       "      <td>81</td>\n",
       "      <td>65</td>\n",
       "    </tr>\n",
       "    <tr>\n",
       "      <th>Test3</th>\n",
       "      <td>70</td>\n",
       "      <td>90</td>\n",
       "      <td>90</td>\n",
       "      <td>82</td>\n",
       "      <td>85</td>\n",
       "    </tr>\n",
       "  </tbody>\n",
       "</table>\n",
       "</div>"
      ],
      "text/plain": [
       "       Wally  Eva  Sam  Katie  Bob\n",
       "Test1     87  100   94    100   83\n",
       "Test2     96   87   77     81   65\n",
       "Test3     70   90   90     82   85"
      ]
     },
     "execution_count": 7,
     "metadata": {},
     "output_type": "execute_result"
    }
   ],
   "source": [
    "grades.index = ['Test1', 'Test2', 'Test3']\n",
    "grades"
   ]
  },
  {
   "cell_type": "code",
   "execution_count": 8,
   "id": "e374a9b5-1316-438f-9546-2a176c5d26a5",
   "metadata": {},
   "outputs": [
    {
     "data": {
      "text/plain": [
       "Test1    100\n",
       "Test2     87\n",
       "Test3     90\n",
       "Name: Eva, dtype: int64"
      ]
     },
     "execution_count": 8,
     "metadata": {},
     "output_type": "execute_result"
    }
   ],
   "source": [
    "grades['Eva']"
   ]
  },
  {
   "cell_type": "code",
   "execution_count": 9,
   "id": "c9ee118a-aa45-4182-98f0-17a3978658f2",
   "metadata": {},
   "outputs": [
    {
     "data": {
      "text/plain": [
       "Test1    94\n",
       "Test2    77\n",
       "Test3    90\n",
       "Name: Sam, dtype: int64"
      ]
     },
     "execution_count": 9,
     "metadata": {},
     "output_type": "execute_result"
    }
   ],
   "source": [
    "grades.Sam"
   ]
  },
  {
   "cell_type": "code",
   "execution_count": 10,
   "id": "d2dba78a-d183-4dd6-a1d2-51b7db6986a6",
   "metadata": {},
   "outputs": [
    {
     "data": {
      "text/plain": [
       "Wally     87\n",
       "Eva      100\n",
       "Sam       94\n",
       "Katie    100\n",
       "Bob       83\n",
       "Name: Test1, dtype: int64"
      ]
     },
     "execution_count": 10,
     "metadata": {},
     "output_type": "execute_result"
    }
   ],
   "source": [
    "grades.loc['Test1']"
   ]
  },
  {
   "cell_type": "code",
   "execution_count": 11,
   "id": "183687dc-10a0-4fad-ae49-3e6310704692",
   "metadata": {},
   "outputs": [
    {
     "data": {
      "text/plain": [
       "Wally    96\n",
       "Eva      87\n",
       "Sam      77\n",
       "Katie    81\n",
       "Bob      65\n",
       "Name: Test2, dtype: int64"
      ]
     },
     "execution_count": 11,
     "metadata": {},
     "output_type": "execute_result"
    }
   ],
   "source": [
    "grades.iloc[1]"
   ]
  },
  {
   "cell_type": "code",
   "execution_count": 12,
   "id": "25b6f903-b982-47d0-ab8f-41295cece470",
   "metadata": {},
   "outputs": [
    {
     "data": {
      "text/plain": [
       "87"
      ]
     },
     "execution_count": 12,
     "metadata": {},
     "output_type": "execute_result"
    }
   ],
   "source": [
    "grades.at['Test2', 'Eva']"
   ]
  },
  {
   "cell_type": "code",
   "execution_count": 13,
   "id": "74565035-7b12-40d2-ad58-83103eb4740c",
   "metadata": {},
   "outputs": [
    {
     "data": {
      "text/plain": [
       "70"
      ]
     },
     "execution_count": 13,
     "metadata": {},
     "output_type": "execute_result"
    }
   ],
   "source": [
    "grades.iat[2,0]"
   ]
  },
  {
   "cell_type": "code",
   "execution_count": 14,
   "id": "92bc2f8b-164f-4b9a-922f-be922eaea961",
   "metadata": {},
   "outputs": [
    {
     "data": {
      "text/html": [
       "<div>\n",
       "<style scoped>\n",
       "    .dataframe tbody tr th:only-of-type {\n",
       "        vertical-align: middle;\n",
       "    }\n",
       "\n",
       "    .dataframe tbody tr th {\n",
       "        vertical-align: top;\n",
       "    }\n",
       "\n",
       "    .dataframe thead th {\n",
       "        text-align: right;\n",
       "    }\n",
       "</style>\n",
       "<table border=\"1\" class=\"dataframe\">\n",
       "  <thead>\n",
       "    <tr style=\"text-align: right;\">\n",
       "      <th></th>\n",
       "      <th>Wally</th>\n",
       "      <th>Eva</th>\n",
       "      <th>Sam</th>\n",
       "      <th>Katie</th>\n",
       "      <th>Bob</th>\n",
       "    </tr>\n",
       "  </thead>\n",
       "  <tbody>\n",
       "    <tr>\n",
       "      <th>count</th>\n",
       "      <td>3.000000</td>\n",
       "      <td>3.000000</td>\n",
       "      <td>3.000000</td>\n",
       "      <td>3.000000</td>\n",
       "      <td>3.000000</td>\n",
       "    </tr>\n",
       "    <tr>\n",
       "      <th>mean</th>\n",
       "      <td>84.333333</td>\n",
       "      <td>92.333333</td>\n",
       "      <td>87.000000</td>\n",
       "      <td>87.666667</td>\n",
       "      <td>77.666667</td>\n",
       "    </tr>\n",
       "    <tr>\n",
       "      <th>std</th>\n",
       "      <td>13.203535</td>\n",
       "      <td>6.806859</td>\n",
       "      <td>8.888194</td>\n",
       "      <td>10.692677</td>\n",
       "      <td>11.015141</td>\n",
       "    </tr>\n",
       "    <tr>\n",
       "      <th>min</th>\n",
       "      <td>70.000000</td>\n",
       "      <td>87.000000</td>\n",
       "      <td>77.000000</td>\n",
       "      <td>81.000000</td>\n",
       "      <td>65.000000</td>\n",
       "    </tr>\n",
       "    <tr>\n",
       "      <th>25%</th>\n",
       "      <td>78.500000</td>\n",
       "      <td>88.500000</td>\n",
       "      <td>83.500000</td>\n",
       "      <td>81.500000</td>\n",
       "      <td>74.000000</td>\n",
       "    </tr>\n",
       "    <tr>\n",
       "      <th>50%</th>\n",
       "      <td>87.000000</td>\n",
       "      <td>90.000000</td>\n",
       "      <td>90.000000</td>\n",
       "      <td>82.000000</td>\n",
       "      <td>83.000000</td>\n",
       "    </tr>\n",
       "    <tr>\n",
       "      <th>75%</th>\n",
       "      <td>91.500000</td>\n",
       "      <td>95.000000</td>\n",
       "      <td>92.000000</td>\n",
       "      <td>91.000000</td>\n",
       "      <td>84.000000</td>\n",
       "    </tr>\n",
       "    <tr>\n",
       "      <th>max</th>\n",
       "      <td>96.000000</td>\n",
       "      <td>100.000000</td>\n",
       "      <td>94.000000</td>\n",
       "      <td>100.000000</td>\n",
       "      <td>85.000000</td>\n",
       "    </tr>\n",
       "  </tbody>\n",
       "</table>\n",
       "</div>"
      ],
      "text/plain": [
       "           Wally         Eva        Sam       Katie        Bob\n",
       "count   3.000000    3.000000   3.000000    3.000000   3.000000\n",
       "mean   84.333333   92.333333  87.000000   87.666667  77.666667\n",
       "std    13.203535    6.806859   8.888194   10.692677  11.015141\n",
       "min    70.000000   87.000000  77.000000   81.000000  65.000000\n",
       "25%    78.500000   88.500000  83.500000   81.500000  74.000000\n",
       "50%    87.000000   90.000000  90.000000   82.000000  83.000000\n",
       "75%    91.500000   95.000000  92.000000   91.000000  84.000000\n",
       "max    96.000000  100.000000  94.000000  100.000000  85.000000"
      ]
     },
     "execution_count": 14,
     "metadata": {},
     "output_type": "execute_result"
    }
   ],
   "source": [
    "grades.describe()"
   ]
  },
  {
   "cell_type": "markdown",
   "id": "6080b82f-f7ac-4e94-960a-714224cb7075",
   "metadata": {},
   "source": [
    "Two Decimal points"
   ]
  },
  {
   "cell_type": "code",
   "execution_count": 18,
   "id": "00893683-a466-4a63-bda1-46a28a932dc8",
   "metadata": {},
   "outputs": [],
   "source": [
    "pd.set_option(\"display.precision\",2)"
   ]
  },
  {
   "cell_type": "code",
   "execution_count": 20,
   "id": "4fffe042-4418-42df-a85c-47f2c10060b1",
   "metadata": {},
   "outputs": [
    {
     "data": {
      "text/html": [
       "<div>\n",
       "<style scoped>\n",
       "    .dataframe tbody tr th:only-of-type {\n",
       "        vertical-align: middle;\n",
       "    }\n",
       "\n",
       "    .dataframe tbody tr th {\n",
       "        vertical-align: top;\n",
       "    }\n",
       "\n",
       "    .dataframe thead th {\n",
       "        text-align: right;\n",
       "    }\n",
       "</style>\n",
       "<table border=\"1\" class=\"dataframe\">\n",
       "  <thead>\n",
       "    <tr style=\"text-align: right;\">\n",
       "      <th></th>\n",
       "      <th>Wally</th>\n",
       "      <th>Eva</th>\n",
       "      <th>Sam</th>\n",
       "      <th>Katie</th>\n",
       "      <th>Bob</th>\n",
       "    </tr>\n",
       "  </thead>\n",
       "  <tbody>\n",
       "    <tr>\n",
       "      <th>count</th>\n",
       "      <td>3.00</td>\n",
       "      <td>3.00</td>\n",
       "      <td>3.00</td>\n",
       "      <td>3.00</td>\n",
       "      <td>3.00</td>\n",
       "    </tr>\n",
       "    <tr>\n",
       "      <th>mean</th>\n",
       "      <td>84.33</td>\n",
       "      <td>92.33</td>\n",
       "      <td>87.00</td>\n",
       "      <td>87.67</td>\n",
       "      <td>77.67</td>\n",
       "    </tr>\n",
       "    <tr>\n",
       "      <th>std</th>\n",
       "      <td>13.20</td>\n",
       "      <td>6.81</td>\n",
       "      <td>8.89</td>\n",
       "      <td>10.69</td>\n",
       "      <td>11.02</td>\n",
       "    </tr>\n",
       "    <tr>\n",
       "      <th>min</th>\n",
       "      <td>70.00</td>\n",
       "      <td>87.00</td>\n",
       "      <td>77.00</td>\n",
       "      <td>81.00</td>\n",
       "      <td>65.00</td>\n",
       "    </tr>\n",
       "    <tr>\n",
       "      <th>25%</th>\n",
       "      <td>78.50</td>\n",
       "      <td>88.50</td>\n",
       "      <td>83.50</td>\n",
       "      <td>81.50</td>\n",
       "      <td>74.00</td>\n",
       "    </tr>\n",
       "    <tr>\n",
       "      <th>50%</th>\n",
       "      <td>87.00</td>\n",
       "      <td>90.00</td>\n",
       "      <td>90.00</td>\n",
       "      <td>82.00</td>\n",
       "      <td>83.00</td>\n",
       "    </tr>\n",
       "    <tr>\n",
       "      <th>75%</th>\n",
       "      <td>91.50</td>\n",
       "      <td>95.00</td>\n",
       "      <td>92.00</td>\n",
       "      <td>91.00</td>\n",
       "      <td>84.00</td>\n",
       "    </tr>\n",
       "    <tr>\n",
       "      <th>max</th>\n",
       "      <td>96.00</td>\n",
       "      <td>100.00</td>\n",
       "      <td>94.00</td>\n",
       "      <td>100.00</td>\n",
       "      <td>85.00</td>\n",
       "    </tr>\n",
       "  </tbody>\n",
       "</table>\n",
       "</div>"
      ],
      "text/plain": [
       "       Wally     Eva    Sam   Katie    Bob\n",
       "count   3.00    3.00   3.00    3.00   3.00\n",
       "mean   84.33   92.33  87.00   87.67  77.67\n",
       "std    13.20    6.81   8.89   10.69  11.02\n",
       "min    70.00   87.00  77.00   81.00  65.00\n",
       "25%    78.50   88.50  83.50   81.50  74.00\n",
       "50%    87.00   90.00  90.00   82.00  83.00\n",
       "75%    91.50   95.00  92.00   91.00  84.00\n",
       "max    96.00  100.00  94.00  100.00  85.00"
      ]
     },
     "execution_count": 20,
     "metadata": {},
     "output_type": "execute_result"
    }
   ],
   "source": [
    "grades.describe()"
   ]
  },
  {
   "cell_type": "code",
   "execution_count": 22,
   "id": "7d4a8e36-44da-4aab-939b-7d9e2876ec21",
   "metadata": {},
   "outputs": [
    {
     "data": {
      "text/plain": [
       "Wally    84.33\n",
       "Eva      92.33\n",
       "Sam      87.00\n",
       "Katie    87.67\n",
       "Bob      77.67\n",
       "dtype: float64"
      ]
     },
     "execution_count": 22,
     "metadata": {},
     "output_type": "execute_result"
    }
   ],
   "source": [
    "grades.mean()"
   ]
  },
  {
   "cell_type": "code",
   "execution_count": 23,
   "id": "19da431b-a6fa-471e-ac73-b714df11d8f5",
   "metadata": {},
   "outputs": [
    {
     "data": {
      "text/html": [
       "<div>\n",
       "<style scoped>\n",
       "    .dataframe tbody tr th:only-of-type {\n",
       "        vertical-align: middle;\n",
       "    }\n",
       "\n",
       "    .dataframe tbody tr th {\n",
       "        vertical-align: top;\n",
       "    }\n",
       "\n",
       "    .dataframe thead th {\n",
       "        text-align: right;\n",
       "    }\n",
       "</style>\n",
       "<table border=\"1\" class=\"dataframe\">\n",
       "  <thead>\n",
       "    <tr style=\"text-align: right;\">\n",
       "      <th></th>\n",
       "      <th>Test1</th>\n",
       "      <th>Test2</th>\n",
       "      <th>Test3</th>\n",
       "    </tr>\n",
       "  </thead>\n",
       "  <tbody>\n",
       "    <tr>\n",
       "      <th>Wally</th>\n",
       "      <td>87</td>\n",
       "      <td>96</td>\n",
       "      <td>70</td>\n",
       "    </tr>\n",
       "    <tr>\n",
       "      <th>Eva</th>\n",
       "      <td>100</td>\n",
       "      <td>87</td>\n",
       "      <td>90</td>\n",
       "    </tr>\n",
       "    <tr>\n",
       "      <th>Sam</th>\n",
       "      <td>94</td>\n",
       "      <td>77</td>\n",
       "      <td>90</td>\n",
       "    </tr>\n",
       "    <tr>\n",
       "      <th>Katie</th>\n",
       "      <td>100</td>\n",
       "      <td>81</td>\n",
       "      <td>82</td>\n",
       "    </tr>\n",
       "    <tr>\n",
       "      <th>Bob</th>\n",
       "      <td>83</td>\n",
       "      <td>65</td>\n",
       "      <td>85</td>\n",
       "    </tr>\n",
       "  </tbody>\n",
       "</table>\n",
       "</div>"
      ],
      "text/plain": [
       "       Test1  Test2  Test3\n",
       "Wally     87     96     70\n",
       "Eva      100     87     90\n",
       "Sam       94     77     90\n",
       "Katie    100     81     82\n",
       "Bob       83     65     85"
      ]
     },
     "execution_count": 23,
     "metadata": {},
     "output_type": "execute_result"
    }
   ],
   "source": [
    "grades.T"
   ]
  },
  {
   "cell_type": "markdown",
   "id": "43508fb3-4404-41c1-835f-a553d0bef94b",
   "metadata": {},
   "source": [
    "Sort Rows in reverse"
   ]
  },
  {
   "cell_type": "code",
   "execution_count": 24,
   "id": "a448c16e-fd9c-49a9-b1d1-01c89c65d49d",
   "metadata": {},
   "outputs": [
    {
     "data": {
      "text/html": [
       "<div>\n",
       "<style scoped>\n",
       "    .dataframe tbody tr th:only-of-type {\n",
       "        vertical-align: middle;\n",
       "    }\n",
       "\n",
       "    .dataframe tbody tr th {\n",
       "        vertical-align: top;\n",
       "    }\n",
       "\n",
       "    .dataframe thead th {\n",
       "        text-align: right;\n",
       "    }\n",
       "</style>\n",
       "<table border=\"1\" class=\"dataframe\">\n",
       "  <thead>\n",
       "    <tr style=\"text-align: right;\">\n",
       "      <th></th>\n",
       "      <th>Wally</th>\n",
       "      <th>Eva</th>\n",
       "      <th>Sam</th>\n",
       "      <th>Katie</th>\n",
       "      <th>Bob</th>\n",
       "    </tr>\n",
       "  </thead>\n",
       "  <tbody>\n",
       "    <tr>\n",
       "      <th>Test3</th>\n",
       "      <td>70</td>\n",
       "      <td>90</td>\n",
       "      <td>90</td>\n",
       "      <td>82</td>\n",
       "      <td>85</td>\n",
       "    </tr>\n",
       "    <tr>\n",
       "      <th>Test2</th>\n",
       "      <td>96</td>\n",
       "      <td>87</td>\n",
       "      <td>77</td>\n",
       "      <td>81</td>\n",
       "      <td>65</td>\n",
       "    </tr>\n",
       "    <tr>\n",
       "      <th>Test1</th>\n",
       "      <td>87</td>\n",
       "      <td>100</td>\n",
       "      <td>94</td>\n",
       "      <td>100</td>\n",
       "      <td>83</td>\n",
       "    </tr>\n",
       "  </tbody>\n",
       "</table>\n",
       "</div>"
      ],
      "text/plain": [
       "       Wally  Eva  Sam  Katie  Bob\n",
       "Test3     70   90   90     82   85\n",
       "Test2     96   87   77     81   65\n",
       "Test1     87  100   94    100   83"
      ]
     },
     "execution_count": 24,
     "metadata": {},
     "output_type": "execute_result"
    }
   ],
   "source": [
    "grades.sort_index(ascending=False)"
   ]
  },
  {
   "cell_type": "markdown",
   "id": "8abbb63c-19e9-4261-a211-0044e23ed12d",
   "metadata": {},
   "source": [
    "Sort Columns"
   ]
  },
  {
   "cell_type": "code",
   "execution_count": 25,
   "id": "9dcd08a1-5992-420a-9572-1137474c130f",
   "metadata": {},
   "outputs": [
    {
     "data": {
      "text/html": [
       "<div>\n",
       "<style scoped>\n",
       "    .dataframe tbody tr th:only-of-type {\n",
       "        vertical-align: middle;\n",
       "    }\n",
       "\n",
       "    .dataframe tbody tr th {\n",
       "        vertical-align: top;\n",
       "    }\n",
       "\n",
       "    .dataframe thead th {\n",
       "        text-align: right;\n",
       "    }\n",
       "</style>\n",
       "<table border=\"1\" class=\"dataframe\">\n",
       "  <thead>\n",
       "    <tr style=\"text-align: right;\">\n",
       "      <th></th>\n",
       "      <th>Bob</th>\n",
       "      <th>Eva</th>\n",
       "      <th>Katie</th>\n",
       "      <th>Sam</th>\n",
       "      <th>Wally</th>\n",
       "    </tr>\n",
       "  </thead>\n",
       "  <tbody>\n",
       "    <tr>\n",
       "      <th>Test1</th>\n",
       "      <td>83</td>\n",
       "      <td>100</td>\n",
       "      <td>100</td>\n",
       "      <td>94</td>\n",
       "      <td>87</td>\n",
       "    </tr>\n",
       "    <tr>\n",
       "      <th>Test2</th>\n",
       "      <td>65</td>\n",
       "      <td>87</td>\n",
       "      <td>81</td>\n",
       "      <td>77</td>\n",
       "      <td>96</td>\n",
       "    </tr>\n",
       "    <tr>\n",
       "      <th>Test3</th>\n",
       "      <td>85</td>\n",
       "      <td>90</td>\n",
       "      <td>82</td>\n",
       "      <td>90</td>\n",
       "      <td>70</td>\n",
       "    </tr>\n",
       "  </tbody>\n",
       "</table>\n",
       "</div>"
      ],
      "text/plain": [
       "       Bob  Eva  Katie  Sam  Wally\n",
       "Test1   83  100    100   94     87\n",
       "Test2   65   87     81   77     96\n",
       "Test3   85   90     82   90     70"
      ]
     },
     "execution_count": 25,
     "metadata": {},
     "output_type": "execute_result"
    }
   ],
   "source": [
    "grades.sort_index(axis=1)"
   ]
  },
  {
   "cell_type": "code",
   "execution_count": null,
   "id": "af83bd1f-7427-411f-a7bf-918d9adbee16",
   "metadata": {},
   "outputs": [],
   "source": [
    "Emily Zimmerman!"
   ]
  }
 ],
 "metadata": {
  "kernelspec": {
   "display_name": "Python 3 (ipykernel)",
   "language": "python",
   "name": "python3"
  },
  "language_info": {
   "codemirror_mode": {
    "name": "ipython",
    "version": 3
   },
   "file_extension": ".py",
   "mimetype": "text/x-python",
   "name": "python",
   "nbconvert_exporter": "python",
   "pygments_lexer": "ipython3",
   "version": "3.9.12"
  }
 },
 "nbformat": 4,
 "nbformat_minor": 5
}
